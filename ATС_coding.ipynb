{
 "cells": [
  {
   "cell_type": "code",
   "execution_count": 1,
   "metadata": {},
   "outputs": [],
   "source": [
    "import pandas as pd\n",
    "import re\n",
    "import numpy as np\n",
    "from tqdm import tnrange"
   ]
  },
  {
   "cell_type": "code",
   "execution_count": 2,
   "metadata": {},
   "outputs": [],
   "source": [
    "import requests\n",
    "import urllib\n",
    "from bs4 import BeautifulSoup"
   ]
  },
  {
   "cell_type": "markdown",
   "metadata": {},
   "source": [
    "# ATH table"
   ]
  },
  {
   "cell_type": "code",
   "execution_count": 3,
   "metadata": {},
   "outputs": [
    {
     "data": {
      "text/html": [
       "<div>\n",
       "<style scoped>\n",
       "    .dataframe tbody tr th:only-of-type {\n",
       "        vertical-align: middle;\n",
       "    }\n",
       "\n",
       "    .dataframe tbody tr th {\n",
       "        vertical-align: top;\n",
       "    }\n",
       "\n",
       "    .dataframe thead th {\n",
       "        text-align: right;\n",
       "    }\n",
       "</style>\n",
       "<table border=\"1\" class=\"dataframe\">\n",
       "  <thead>\n",
       "    <tr style=\"text-align: right;\">\n",
       "      <th></th>\n",
       "      <th>ID</th>\n",
       "      <th>Name</th>\n",
       "    </tr>\n",
       "  </thead>\n",
       "  <tbody>\n",
       "    <tr>\n",
       "      <th>0</th>\n",
       "      <td>A01</td>\n",
       "      <td>Стоматологические препараты</td>\n",
       "    </tr>\n",
       "    <tr>\n",
       "      <th>1</th>\n",
       "      <td>A01A</td>\n",
       "      <td>Стоматологические препараты</td>\n",
       "    </tr>\n",
       "    <tr>\n",
       "      <th>2</th>\n",
       "      <td>A01AA</td>\n",
       "      <td>Препараты для профилактики кариеса</td>\n",
       "    </tr>\n",
       "    <tr>\n",
       "      <th>3</th>\n",
       "      <td>A01AA01</td>\n",
       "      <td>Sodium fluoride</td>\n",
       "    </tr>\n",
       "    <tr>\n",
       "      <th>4</th>\n",
       "      <td>A01AA02</td>\n",
       "      <td>Sodium monofluorophosphate</td>\n",
       "    </tr>\n",
       "  </tbody>\n",
       "</table>\n",
       "</div>"
      ],
      "text/plain": [
       "        ID                                Name\n",
       "0      A01         Стоматологические препараты\n",
       "1     A01A         Стоматологические препараты\n",
       "2    A01AA  Препараты для профилактики кариеса\n",
       "3  A01AA01                     Sodium fluoride\n",
       "4  A01AA02          Sodium monofluorophosphate"
      ]
     },
     "execution_count": 3,
     "metadata": {},
     "output_type": "execute_result"
    }
   ],
   "source": [
    "ath_codes = pd.read_csv('Support data/ath_codes_upd2.csv', index_col=0)\n",
    "ath_codes.head()"
   ]
  },
  {
   "cell_type": "markdown",
   "metadata": {},
   "source": [
    "# Code"
   ]
  },
  {
   "cell_type": "code",
   "execution_count": 46,
   "metadata": {},
   "outputs": [],
   "source": [
    "def clear_name(x):\n",
    "    #delete brackets\n",
    "    br = re.findall('\\(.{,100}\\)', str(x))\n",
    "    if len(br) > 0:\n",
    "        x = str(x).replace(br[0], '').strip()\n",
    "    #delete digits\n",
    "    di = re.findall('\\d', str(x))\n",
    "    if len(di)>0:\n",
    "        for el in di:\n",
    "            x = str(x).replace(el, '').replace('мг', '')\n",
    "    #delete symbols\n",
    "    x = str(x).replace('.', '').replace(',', '').replace(':', '').replace(';', '').replace('+', '').replace('\\d', '').strip()\n",
    "    return x"
   ]
  },
  {
   "cell_type": "code",
   "execution_count": 5,
   "metadata": {},
   "outputs": [],
   "source": [
    "def normalize_units(x):\n",
    "    tab = re.findall('таб', str(x))\n",
    "    if len(tab) > 0:\n",
    "        form = 'таб'\n",
    "    \n",
    "    vpr = re.findall('прыск', str(x))\n",
    "    inst = re.findall('инстил', str(x))\n",
    "    if (len(vpr) > 0) or (len(inst) > 0):\n",
    "        form = ''\n",
    "    \n",
    "    else:\n",
    "        form = x\n",
    "    \n",
    "    return form"
   ]
  },
  {
   "cell_type": "code",
   "execution_count": 6,
   "metadata": {},
   "outputs": [],
   "source": [
    "def make_request(in_dr):\n",
    "    drug = urllib.request.quote(str(in_dr).lower()) #кодировка в URL\n",
    "    link = 'https://www.vidal.ru/drugs?t=all&q=' + str(drug) #создаем ссылку\n",
    "    html_page = urllib.request.urlopen(link) #отправляем запрос на сайт\n",
    "    soup = BeautifulSoup(html_page, \"html.parser\") #открываем HTML\n",
    "    return soup"
   ]
  },
  {
   "cell_type": "code",
   "execution_count": 7,
   "metadata": {},
   "outputs": [],
   "source": [
    "def find_names(soup):\n",
    "    suggested_drugs = soup.find_all('td', \"products-table-name\")\n",
    "    drug_names = []\n",
    "    for i in range(len(suggested_drugs)):\n",
    "        drug_name = re.findall('\\\">\\n\\s{,100}\\w{,100}<?s?u?p?>?\\W{,1}<?/?s?u?p?>?\\s{,1}\\w{,20}\\S{,1}\\w{,3}', str(suggested_drugs[i].a))[0].replace('<sup>', ' ').replace('</sup>', ' ').replace('sup', '').replace('\\n', '').replace('<', '').replace('\\n', '').replace('\\\">', '').replace('  ', ' ').strip()\n",
    "        drug_names.append(drug_name)\n",
    "    return suggested_drugs, drug_names"
   ]
  },
  {
   "cell_type": "code",
   "execution_count": 64,
   "metadata": {},
   "outputs": [],
   "source": [
    "def find_forms(soup):\n",
    "    form_drugs = soup.find_all('div', 'hyphenate')\n",
    "    drug_forms = []\n",
    "    for form in range(len(form_drugs)):\n",
    "        drug_form = re.findall('>.{,10000}<', str(form_drugs[form]))[0].replace('>', '').replace('<', '')\n",
    "        drug_forms.append(drug_form)\n",
    "    return drug_forms"
   ]
  },
  {
   "cell_type": "code",
   "execution_count": 9,
   "metadata": {},
   "outputs": [],
   "source": [
    "def detect_needed(fdr, forms):\n",
    "    if fdr == '':\n",
    "        need_ids = [0]\n",
    "    else:\n",
    "        fdr = normalize_units(fdr)\n",
    "        fdr = fdr.replace(' ', '').replace('.', '').replace(',', '').replace(':', '').replace(';', '').lower()\n",
    "        need_ids = []\n",
    "        for i in range(len(forms)):\n",
    "            look = re.findall(str(fdr).lower(), str(forms[i]).replace(' ', '').replace('.', '').replace(',', '').replace(':', '').replace(';', '').lower())\n",
    "            if len(look) > 0:\n",
    "                need_ids.append(i)\n",
    "            else:\n",
    "                pass\n",
    "        if need_ids ==[]:\n",
    "            need_ids = [0]\n",
    "    return need_ids"
   ]
  },
  {
   "cell_type": "code",
   "execution_count": 25,
   "metadata": {},
   "outputs": [],
   "source": [
    "def get_soup2(dose, suggested_drugs, forms):\n",
    "    need_ids = detect_needed(str(dose), forms)\n",
    "    #print(need_ids)\n",
    "    if len(need_ids) > 0:\n",
    "        hr = str(suggested_drugs[need_ids[0]].a)\n",
    "        p_url = re.findall('href=\\\"\\S{,100}', hr)[0].replace('href=\\\"/', '').replace('\\\">', '')\n",
    "        up_url = str('https://www.vidal.ru/'+p_url)\n",
    "        html_page2 = urllib.request.urlopen(up_url)\n",
    "        soup2 = BeautifulSoup(html_page2, \"html.parser\")\n",
    "        return soup2"
   ]
  },
  {
   "cell_type": "code",
   "execution_count": 26,
   "metadata": {},
   "outputs": [],
   "source": [
    "def ath_actmol(soup2):\n",
    "    r = soup2.find_all('a', \"no-underline\", 'href')\n",
    "    active = []\n",
    "    atc = []\n",
    "    for i in range(len(r)):\n",
    "        ch = re.findall('molecule', str(r[i]))\n",
    "        at = re.findall('atc', str(r[i]))\n",
    "        if len(ch) > 0:\n",
    "            active.append(r[i])\n",
    "        if len(at) > 0:\n",
    "            atc.append(r[i])\n",
    "    if len(active)>0:     \n",
    "        act_mol = re.findall('>.{,1000}<', str(active[0]))[0].replace('>', '').replace('<', '').strip().capitalize()\n",
    "    else:\n",
    "        act_mol = 'nan'\n",
    "    ath_code = re.findall('[A-Z]\\d{1,2}\\w{0,2}\\d{0,2}', str(atc[0]))[0].replace('>', '').replace('<', '').strip()\n",
    "    return act_mol, ath_code"
   ]
  },
  {
   "cell_type": "code",
   "execution_count": 27,
   "metadata": {},
   "outputs": [],
   "source": [
    "def recommendation(need_ids, suggested_drugs):\n",
    "    j = need_ids[0]\n",
    "    sug_dr = str(suggested_drugs[j].div).replace('<div>', '').replace('<li>', '').replace('<ul>', '').replace('</div>', '').replace('</li>', '').replace('</ul>', '').strip().capitalize()\n",
    "    return sug_dr"
   ]
  },
  {
   "cell_type": "code",
   "execution_count": 81,
   "metadata": {},
   "outputs": [],
   "source": [
    "def get_info(dn, fname):\n",
    "    #insert drug_name\n",
    "    dname = clear_name(dn)\n",
    "    \n",
    "    soup = make_request(dname)\n",
    "    suggested_drugs, drug_names = find_names(soup)\n",
    "    if len(drug_names) > 0:\n",
    "        forms = find_forms(soup)\n",
    "        #insert drug form\n",
    "        need_ids = detect_needed(fname, forms)\n",
    "        if len(suggested_drugs) == len(drug_names):\n",
    "            soup2 = get_soup2(fname, suggested_drugs, forms)\n",
    "            name = drug_names[need_ids[0]].capitalize()\n",
    "            form = forms[need_ids[0]].capitalize()\n",
    "            act_mol, ath_code = ath_actmol(soup2)\n",
    "            recom = recommendation(need_ids, suggested_drugs)\n",
    "            return name, form, act_mol, ath_code, recom\n",
    "        else:\n",
    "            soup2 = get_soup2(fname, suggested_drugs, forms)\n",
    "            name = drug_names[0].capitalize()\n",
    "            form = forms[0].capitalize()\n",
    "            act_mol, ath_code = ath_actmol(soup2)\n",
    "            recom = recommendation(need_ids, suggested_drugs)\n",
    "            \n",
    "    else:\n",
    "        return 'nan', 'nan', 'nan', 'nan', 'nan'"
   ]
  },
  {
   "cell_type": "code",
   "execution_count": 82,
   "metadata": {},
   "outputs": [],
   "source": [
    "def ath_processing(ath_code):\n",
    "    len_ath = len(ath_code)\n",
    "    res0 = ath_codes['ID'] == ath_code\n",
    "    res1 = ath_codes['ID'] == ath_code[:3]\n",
    "    if len_ath > 3:\n",
    "        res2 = ath_codes['ID'] == ath_code[:5]\n",
    "    else:\n",
    "        res2 = res0\n",
    "\n",
    "    mdf = ath_codes[res0 | res1 | res2].reset_index()\n",
    "    name2 = mdf.loc[0, 'Name']\n",
    "    code2 = mdf.loc[0, 'ID']\n",
    "    if len(mdf) == 3:\n",
    "        name4 = mdf.loc[1, 'Name']\n",
    "        code4 = mdf.loc[1, 'ID']\n",
    "        name5 = mdf.loc[2, 'Name']\n",
    "        code5 = mdf.loc[2, 'ID']\n",
    "\n",
    "    elif len(mdf) == 2:\n",
    "        name4 = mdf.loc[1, 'Name']\n",
    "        code4 = mdf.loc[1, 'ID']\n",
    "        name5 = 'nan'\n",
    "        code5 = 'nan' \n",
    "\n",
    "    else:\n",
    "        name4 = 'nan'\n",
    "        code4 = 'nan'\n",
    "        name5 = 'nan'\n",
    "        code5 = 'nan'\n",
    "        \n",
    "    return name5, code5, name4, code4, name2, code2"
   ]
  },
  {
   "cell_type": "code",
   "execution_count": 91,
   "metadata": {},
   "outputs": [],
   "source": [
    "name, form, act_mol, ath_code, recom = get_info('аква марис', '')"
   ]
  },
  {
   "cell_type": "code",
   "execution_count": 92,
   "metadata": {
    "scrolled": false
   },
   "outputs": [
    {
     "name": "stdout",
     "output_type": "stream",
     "text": [
      "Аква марис Капли назальные д/детей: фл.-капельница 10 мл nan R01AX10 None\n"
     ]
    }
   ],
   "source": [
    "print(name, form, act_mol, ath_code, recom)"
   ]
  },
  {
   "cell_type": "code",
   "execution_count": 93,
   "metadata": {},
   "outputs": [],
   "source": [
    "n5, c5, n4, c4, n2, c2 = ath_processing(ath_code)"
   ]
  },
  {
   "cell_type": "code",
   "execution_count": 94,
   "metadata": {},
   "outputs": [
    {
     "name": "stdout",
     "output_type": "stream",
     "text": [
      "Прочие препараты R01AX10 Прочие препараты для местного применения при заболеваниях носа R01AX Препараты для лечения заболеваний носа R01\n"
     ]
    }
   ],
   "source": [
    "print(n5, c5, n4, c4, n2, c2)"
   ]
  },
  {
   "cell_type": "code",
   "execution_count": 95,
   "metadata": {
    "scrolled": true
   },
   "outputs": [
    {
     "data": {
      "text/html": [
       "<div>\n",
       "<style scoped>\n",
       "    .dataframe tbody tr th:only-of-type {\n",
       "        vertical-align: middle;\n",
       "    }\n",
       "\n",
       "    .dataframe tbody tr th {\n",
       "        vertical-align: top;\n",
       "    }\n",
       "\n",
       "    .dataframe thead th {\n",
       "        text-align: right;\n",
       "    }\n",
       "</style>\n",
       "<table border=\"1\" class=\"dataframe\">\n",
       "  <thead>\n",
       "    <tr style=\"text-align: right;\">\n",
       "      <th></th>\n",
       "      <th>Название</th>\n",
       "      <th>Форма</th>\n",
       "      <th>Действующее вещество</th>\n",
       "      <th>АТХ</th>\n",
       "      <th>Показание к применению</th>\n",
       "      <th>АТХ_5</th>\n",
       "      <th>АТХ_5_имя</th>\n",
       "      <th>АТХ_4</th>\n",
       "      <th>АТХ_4_имя</th>\n",
       "      <th>АТХ_2</th>\n",
       "      <th>АТХ_2_имя</th>\n",
       "    </tr>\n",
       "  </thead>\n",
       "  <tbody>\n",
       "    <tr>\n",
       "      <th>0</th>\n",
       "      <td>Аква марис</td>\n",
       "      <td>Капли назальные д/детей: фл.-капельница 10 мл</td>\n",
       "      <td>nan</td>\n",
       "      <td>R01AX10</td>\n",
       "      <td>None</td>\n",
       "      <td>R01AX10</td>\n",
       "      <td>Прочие препараты</td>\n",
       "      <td>R01AX</td>\n",
       "      <td>Прочие препараты для местного применения при з...</td>\n",
       "      <td>R01</td>\n",
       "      <td>Препараты для лечения заболеваний носа</td>\n",
       "    </tr>\n",
       "  </tbody>\n",
       "</table>\n",
       "</div>"
      ],
      "text/plain": [
       "     Название                                          Форма  \\\n",
       "0  Аква марис  Капли назальные д/детей: фл.-капельница 10 мл   \n",
       "\n",
       "  Действующее вещество      АТХ Показание к применению    АТХ_5  \\\n",
       "0                  nan  R01AX10                   None  R01AX10   \n",
       "\n",
       "          АТХ_5_имя  АТХ_4                                          АТХ_4_имя  \\\n",
       "0  Прочие препараты  R01AX  Прочие препараты для местного применения при з...   \n",
       "\n",
       "  АТХ_2                               АТХ_2_имя  \n",
       "0   R01  Препараты для лечения заболеваний носа  "
      ]
     },
     "execution_count": 95,
     "metadata": {},
     "output_type": "execute_result"
    }
   ],
   "source": [
    "row = {'Название': [name], 'Форма': [form], 'Действующее вещество': [act_mol], 'АТХ': [ath_code], 'Показание к применению': [recom], \n",
    "       'АТХ_5':[c5], 'АТХ_5_имя':[n5], 'АТХ_4':[c4], 'АТХ_4_имя':[n4], 'АТХ_2':[c2], 'АТХ_2_имя':[n2]} \n",
    "row = pd.DataFrame.from_dict(row, orient='columns')\n",
    "row"
   ]
  },
  {
   "cell_type": "markdown",
   "metadata": {},
   "source": [
    "# По действующим веществам"
   ]
  },
  {
   "cell_type": "code",
   "execution_count": 99,
   "metadata": {},
   "outputs": [],
   "source": [
    "def for_compounds(dname):\n",
    "    name = clear_name(dname)\n",
    "    soupp = make_request(name)\n",
    "    req = soupp.find_all('a', \"no-underline\", 'href')\n",
    "    link = []\n",
    "    for i in range(len(req)):\n",
    "        mol = re.findall('/molecule-in/', str(req[i]))\n",
    "        if len(mol) > 0:\n",
    "            link.append(req[i])\n",
    "    if len(link) > 0:\n",
    "        link_dr = re.findall('href=\".{,1000}\"', str(link[0]))[0].replace('href=\\\"', '').replace('\\\"', '')\n",
    "        link = 'https://www.vidal.ru' + str(link_dr) #создаем ссылку\n",
    "        html_page = urllib.request.urlopen(link) #отправляем запрос на сайт\n",
    "        soup3 = BeautifulSoup(html_page, \"html.parser\") #открываем HTML\n",
    "        return soup3\n",
    "    else:\n",
    "        pass"
   ]
  },
  {
   "cell_type": "code",
   "execution_count": 100,
   "metadata": {},
   "outputs": [],
   "source": [
    "def active_compounds(soup3):\n",
    "    suggested_drugs, drug_names = find_names(soup3)\n",
    "    if len(drug_names) > 0:\n",
    "        forms = find_forms(soup3)\n",
    "        print(forms)\n",
    "        #insert drug form\n",
    "        fname=''\n",
    "        need_ids = detect_needed(fname, forms)\n",
    "        print(need_ids)\n",
    "        soup2 = get_soup2(fname, suggested_drugs, forms)\n",
    "        name = drug_names[need_ids[0]].capitalize()\n",
    "        print(name)\n",
    "        form = forms[need_ids[0]].capitalize()\n",
    "        act_mol, ath_code = ath_actmol(soup2)\n",
    "        recom = recommendation(need_ids, suggested_drugs)\n",
    "        return name, form, act_mol, ath_code, recom\n",
    "    else:\n",
    "        return 'nan', 'nan', 'nan', 'nan', 'nan'"
   ]
  },
  {
   "cell_type": "code",
   "execution_count": 103,
   "metadata": {},
   "outputs": [
    {
     "data": {
      "text/html": [
       "<div>\n",
       "<style scoped>\n",
       "    .dataframe tbody tr th:only-of-type {\n",
       "        vertical-align: middle;\n",
       "    }\n",
       "\n",
       "    .dataframe tbody tr th {\n",
       "        vertical-align: top;\n",
       "    }\n",
       "\n",
       "    .dataframe thead th {\n",
       "        text-align: right;\n",
       "    }\n",
       "</style>\n",
       "<table border=\"1\" class=\"dataframe\">\n",
       "  <thead>\n",
       "    <tr style=\"text-align: right;\">\n",
       "      <th></th>\n",
       "      <th>Табличное_имя</th>\n",
       "      <th>Название</th>\n",
       "      <th>Форма</th>\n",
       "      <th>Действующее вещество</th>\n",
       "      <th>АТХ</th>\n",
       "      <th>Показание к применению</th>\n",
       "      <th>АТХ_5</th>\n",
       "      <th>АТХ_5_имя</th>\n",
       "      <th>АТХ_4</th>\n",
       "      <th>АТХ_4_имя</th>\n",
       "      <th>АТХ_2</th>\n",
       "      <th>АТХ_2_имя</th>\n",
       "    </tr>\n",
       "  </thead>\n",
       "  <tbody>\n",
       "    <tr>\n",
       "      <th>0</th>\n",
       "      <td>моксонидин</td>\n",
       "      <td>Моксонидин</td>\n",
       "      <td>Таб., покр. пленочной оболочкой, 0.2 мг: 20 ил...</td>\n",
       "      <td>Моксонидин</td>\n",
       "      <td>C02AC05</td>\n",
       "      <td>None</td>\n",
       "      <td>C02AC05</td>\n",
       "      <td>Moxonidine</td>\n",
       "      <td>C02AC</td>\n",
       "      <td>Агонисты имидазолиновых рецепторов</td>\n",
       "      <td>C02</td>\n",
       "      <td>Антигипертензивные препараты</td>\n",
       "    </tr>\n",
       "  </tbody>\n",
       "</table>\n",
       "</div>"
      ],
      "text/plain": [
       "  Табличное_имя    Название  \\\n",
       "0    моксонидин  Моксонидин   \n",
       "\n",
       "                                               Форма Действующее вещество  \\\n",
       "0  Таб., покр. пленочной оболочкой, 0.2 мг: 20 ил...           Моксонидин   \n",
       "\n",
       "       АТХ Показание к применению    АТХ_5   АТХ_5_имя  АТХ_4  \\\n",
       "0  C02AC05                   None  C02AC05  Moxonidine  C02AC   \n",
       "\n",
       "                            АТХ_4_имя АТХ_2                     АТХ_2_имя  \n",
       "0  Агонисты имидазолиновых рецепторов   C02  Антигипертензивные препараты  "
      ]
     },
     "execution_count": 103,
     "metadata": {},
     "output_type": "execute_result"
    }
   ],
   "source": [
    "proc_df[proc_df['АТХ'] !='nan']"
   ]
  }
 ],
 "metadata": {
  "kernelspec": {
   "display_name": "Python 3",
   "language": "python",
   "name": "python3"
  },
  "language_info": {
   "codemirror_mode": {
    "name": "ipython",
    "version": 3
   },
   "file_extension": ".py",
   "mimetype": "text/x-python",
   "name": "python",
   "nbconvert_exporter": "python",
   "pygments_lexer": "ipython3",
   "version": "3.7.3"
  }
 },
 "nbformat": 4,
 "nbformat_minor": 2
}
